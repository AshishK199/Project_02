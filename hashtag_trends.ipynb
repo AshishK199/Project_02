{
 "cells": [
  {
   "cell_type": "code",
   "execution_count": 1,
   "id": "a2d0f849",
   "metadata": {},
   "outputs": [
    {
     "data": {
      "text/html": [
       "\n",
       "            <div>\n",
       "                <p><b>SparkSession - in-memory</b></p>\n",
       "                \n",
       "        <div>\n",
       "            <p><b>SparkContext</b></p>\n",
       "\n",
       "            <p><a href=\"http://LAPTOP-F243HIRC:4044\">Spark UI</a></p>\n",
       "\n",
       "            <dl>\n",
       "              <dt>Version</dt>\n",
       "                <dd><code>v3.1.2</code></dd>\n",
       "              <dt>Master</dt>\n",
       "                <dd><code>local[*]</code></dd>\n",
       "              <dt>AppName</dt>\n",
       "                <dd><code>pyspark-shell</code></dd>\n",
       "            </dl>\n",
       "        </div>\n",
       "        \n",
       "            </div>\n",
       "        "
      ],
      "text/plain": [
       "<pyspark.sql.session.SparkSession at 0x1d21ff94820>"
      ]
     },
     "execution_count": 1,
     "metadata": {},
     "output_type": "execute_result"
    }
   ],
   "source": [
    "import pyspark\n",
    "from pyspark import SparkContext\n",
    "sc = SparkContext.getOrCreate();\n",
    "import findspark\n",
    "findspark.init()\n",
    "from pyspark.sql import SparkSession\n",
    "spark = SparkSession.builder.master(\"local[*]\").getOrCreate()\n",
    "spark.conf.set(\"spark.sql.repl.eagerEval.enabled\", True) # Property used to format output tables better\n",
    "spark"
   ]
  },
  {
   "cell_type": "code",
   "execution_count": 2,
   "id": "e0ed9107",
   "metadata": {},
   "outputs": [],
   "source": [
    "from __future__ import print_function\n",
    "from pyspark import SparkContext\n",
    "from pyspark.streaming import StreamingContext"
   ]
  },
  {
   "cell_type": "code",
   "execution_count": 3,
   "id": "8e581703",
   "metadata": {},
   "outputs": [],
   "source": [
    "sc.stop()"
   ]
  },
  {
   "cell_type": "code",
   "execution_count": 4,
   "id": "a89591c5",
   "metadata": {},
   "outputs": [],
   "source": [
    "sc=SparkContext(appName=\"Twitter Data Analysis\")\n",
    "sc.setLogLevel(\"ERROR\")\n",
    "ssc=StreamingContext(sc,10)"
   ]
  },
  {
   "cell_type": "code",
   "execution_count": 5,
   "id": "a163757c",
   "metadata": {},
   "outputs": [],
   "source": [
    "socket_stream = ssc.socketTextStream(\"127.0.0.1\",6555)"
   ]
  },
  {
   "cell_type": "code",
   "execution_count": 6,
   "id": "82670859",
   "metadata": {},
   "outputs": [],
   "source": [
    "lines=socket_stream.window(60)"
   ]
  },
  {
   "cell_type": "code",
   "execution_count": 7,
   "id": "9e3e5b8f",
   "metadata": {},
   "outputs": [],
   "source": [
    "hashtags = lines.flatMap(lambda text:text.split(\" \")).filter(lambda word:word.lower().startswith('#')).map(lambda word:(word.lower(),1)).reduceByKey(lambda a,b:a+b)"
   ]
  },
  {
   "cell_type": "code",
   "execution_count": 8,
   "id": "d5eda143",
   "metadata": {},
   "outputs": [],
   "source": [
    "author_counts_sorted_dstream=hashtags.transform(lambda foo:foo.sortBy(lambda x:x[0].lower()).sortBy(lambda x:x[1],ascending=False))"
   ]
  },
  {
   "cell_type": "code",
   "execution_count": 9,
   "id": "815664c3",
   "metadata": {},
   "outputs": [],
   "source": [
    "author_counts_sorted_dstream.pprint()"
   ]
  },
  {
   "cell_type": "code",
   "execution_count": 10,
   "id": "57749e17",
   "metadata": {},
   "outputs": [],
   "source": [
    "ssc.start()"
   ]
  },
  {
   "cell_type": "code",
   "execution_count": null,
   "id": "1c0bd671",
   "metadata": {},
   "outputs": [
    {
     "name": "stdout",
     "output_type": "stream",
     "text": [
      "-------------------------------------------\n",
      "Time: 2021-08-16 12:11:30\n",
      "-------------------------------------------\n",
      "('#afghanistan…rt', 1)\n",
      "('#americafirst', 1)\n",
      "('#banliznowjack', 1)\n",
      "('#tgtrendgang!', 1)\n",
      "('#whereisjoebiden', 1)\n",
      "\n",
      "-------------------------------------------\n",
      "Time: 2021-08-16 12:11:40\n",
      "-------------------------------------------\n",
      "('#afghanistan', 25)\n",
      "('#trump', 18)\n",
      "('#biden', 12)\n",
      "('#banliznowjack', 8)\n",
      "('#talibantrumprt', 8)\n",
      "('#talibantrump', 7)\n",
      "('#talebani', 5)\n",
      "('#taliban', 5)\n",
      "('#afghanistan,', 3)\n",
      "('#afghanistanrt', 3)\n",
      "...\n",
      "\n",
      "-------------------------------------------\n",
      "Time: 2021-08-16 12:11:50\n",
      "-------------------------------------------\n",
      "('#afghanistan', 179)\n",
      "('#trump', 110)\n",
      "('#biden', 78)\n",
      "('#talibantrumprt', 62)\n",
      "('#taliban', 32)\n",
      "('#afghanistan\"…rt', 24)\n",
      "('#talibantrump', 24)\n",
      "('#twitter', 13)\n",
      "('#kabul', 12)\n",
      "('#talebani', 11)\n",
      "...\n",
      "\n"
     ]
    }
   ],
   "source": [
    "ssc.awaitTermination()"
   ]
  },
  {
   "cell_type": "code",
   "execution_count": null,
   "id": "56128e06",
   "metadata": {},
   "outputs": [],
   "source": []
  },
  {
   "cell_type": "code",
   "execution_count": null,
   "id": "8c96d091",
   "metadata": {},
   "outputs": [],
   "source": []
  }
 ],
 "metadata": {
  "kernelspec": {
   "display_name": "Python 3",
   "language": "python",
   "name": "python3"
  },
  "language_info": {
   "codemirror_mode": {
    "name": "ipython",
    "version": 3
   },
   "file_extension": ".py",
   "mimetype": "text/x-python",
   "name": "python",
   "nbconvert_exporter": "python",
   "pygments_lexer": "ipython3",
   "version": "3.8.8"
  }
 },
 "nbformat": 4,
 "nbformat_minor": 5
}
