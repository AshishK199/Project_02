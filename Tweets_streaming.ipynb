{
 "cells": [
  {
   "cell_type": "code",
   "execution_count": 1,
   "id": "9d57c5d4",
   "metadata": {},
   "outputs": [],
   "source": [
    "import tweepy\n",
    "from tweepy import OAuthHandler\n",
    "from tweepy import Stream\n",
    "from tweepy.streaming import StreamListener"
   ]
  },
  {
   "cell_type": "code",
   "execution_count": 2,
   "id": "dfa33715",
   "metadata": {},
   "outputs": [],
   "source": [
    "import socket\n",
    "import json"
   ]
  },
  {
   "cell_type": "code",
   "execution_count": 3,
   "id": "4878d03d",
   "metadata": {},
   "outputs": [],
   "source": [
    "consumer_key = 'PApQojAQOSd8iWdMdWeumD5i2'\n",
    "consumer_secret = 'lUEA33FLEUK1hO52LlLnRbFulopaDYYLes5EDqnImO5XmyPqLg'\n",
    "access_token = '1425317741997694976-IkA7s2zdUdQp1XdiO2YZaWDaUTSk3D'\n",
    "access_secret = 'jdb2xaTL50gfiyIGx6aNMwihLe0ff0T4peX0ectErrYEy'"
   ]
  },
  {
   "cell_type": "code",
   "execution_count": 4,
   "id": "726c90ce",
   "metadata": {},
   "outputs": [],
   "source": [
    "class TweetsListener(StreamListener):\n",
    "    def __init__(self,c_socket):\n",
    "        self.client_socket = c_socket\n",
    "    def on_data(self,data):\n",
    "        try:\n",
    "            msg = json.loads(data)\n",
    "            print(msg['text'].encode('utf-8'))\n",
    "            self.client_socket.send(msg['text'].encode('utf-8'))\n",
    "            return True\n",
    "        except BaseException as e:\n",
    "            print('Error on_data: %s'%str(e))\n",
    "        return True\n",
    "    def on_error(self,status):\n",
    "        print(status)\n",
    "        return True"
   ]
  },
  {
   "cell_type": "code",
   "execution_count": 5,
   "id": "5e601753",
   "metadata": {},
   "outputs": [],
   "source": [
    "def sendData(c_socket):\n",
    "    auth = OAuthHandler(consumer_key,consumer_secret)\n",
    "    auth.set_access_token(access_token,access_secret)\n",
    "    twitter_stream=Stream(auth,TweetsListener(c_socket))\n",
    "    twitter_stream.filter(track=['trump'])"
   ]
  },
  {
   "cell_type": "code",
   "execution_count": 6,
   "id": "1c91a097",
   "metadata": {},
   "outputs": [
    {
     "name": "stdout",
     "output_type": "stream",
     "text": [
      "Listening on port: 6555\n"
     ]
    }
   ],
   "source": [
    "s=socket.socket()\n",
    "host=\"127.0.0.1\"\n",
    "port=6555\n",
    "s.bind((host,port))\n",
    "print(\"Listening on port: %s\"%str(port))"
   ]
  },
  {
   "cell_type": "code",
   "execution_count": 7,
   "id": "0e083207",
   "metadata": {},
   "outputs": [
    {
     "name": "stdout",
     "output_type": "stream",
     "text": [
      "Received request from: ('127.0.0.1', 54797)\n"
     ]
    }
   ],
   "source": [
    "s.listen(5)\n",
    "c,addr=s.accept()\n",
    "print('Received request from: '+str(addr))"
   ]
  },
  {
   "cell_type": "code",
   "execution_count": null,
   "id": "75e5b625",
   "metadata": {},
   "outputs": [
    {
     "name": "stdout",
     "output_type": "stream",
     "text": [
      "b'RT @APLMom: @Liz_Cheney Liz. Stop. The world is falling apart and this is NOT on anyone\\xe2\\x80\\x99s top list of anything other than people who would\\xe2\\x80\\xa6'\n",
      "b'RT @thebradfordfile: Biden is exposing the genius of Trump with each passing day.'\n",
      "b'@PrashantTandy Iran was an important ally which we lost couple of years back because of pressures from Trump.'\n",
      "b'RT @peterjukes: Wonder what went on in all those unrecorded conservations with Trump and Putin? And what happened to that bounty offered on\\xe2\\x80\\xa6'\n",
      "b'RT @hugolowell: New: Republican Party has removed a page from their website bragging about Trump\\xe2\\x80\\x99s deal with the Taliban that committed Bid\\xe2\\x80\\xa6'\n",
      "b'Dear sir i m a very small guy but i want to ask you one thing, is they are taliban fighters Or taliban terrorist??\\xe2\\x80\\xa6 https://t.co/ax9fVJ6Tjc'\n",
      "b'RT @alonso_dm: La mayor humillaci\\xc3\\xb3n b\\xc3\\xa9lica sufrida por Occidente y ni un s\\xc3\\xb3lo \\xc2\\xabl\\xc3\\xadder\\xc2\\xbb internacional se ha dignado a dar la cara ante las c\\xc3\\xa1\\xe2\\x80\\xa6'\n",
      "b\"RT @ajitdatta: As Kabul falls and Taliban retakes control of Afghanistan, I'm flooded with memories. For example, exactly 5 years ago, some\\xe2\\x80\\xa6\"\n",
      "b'Via :trump kaka \\xf0\\x9f\\x98\\x82 https://t.co/bYzZ6huzW0'\n",
      "b'RT @TriggerdByTrump: Pompeo\\xe2\\x80\\x99s man in Kabul. \\nMaybe Putin\\xe2\\x80\\x99s too. https://t.co/wxKCtBfgZ4'\n",
      "b'RT @stillgray: Democrats may not have liked Trump\\xe2\\x80\\x99s mean tweets\\xe2\\x80\\x94but America\\xe2\\x80\\x99s enemies were terrified of the weight of America\\xe2\\x80\\x99s military mi\\xe2\\x80\\xa6'\n",
      "b\"CONGRATULATIONS TO ALL WINNERS YESTERDAY. TODAY'S FIXED MATCHES ARE NOW AVAILABLE. YOU CAN  CONTACT ME DIRECTLY ON\\xe2\\x80\\xa6 https://t.co/2wA8RkeuXS\"\n",
      "b'RT @OccupyDemocrats: BREAKING: Pro-Trump Cardinal Raymond Burke, who spread the delusional conspiracy that the COVID vaccines contain micro\\xe2\\x80\\xa6'\n",
      "b'Very pro-Putin for Trump to bring drug making in Afganistan back by allowing the Taliban to take over again (he fre\\xe2\\x80\\xa6 https://t.co/n8l57SJKkP'\n",
      "b'RT @BombshellDAILY: CAPITOL TOURIST VISIT KILLS FIVE\\nRare HD footage of Capitol cops facing down radicalized mob. https://t.co/kn6VQNvUhb'\n",
      "b'Trump did in 2028.'\n",
      "b'RT @mobaluser: @HowardA_Esq I hope we have learned a lesson from the Trump debacle. NEVER give power to a person who knows everything. NEVE\\xe2\\x80\\xa6'\n",
      "b\"RT @IwriteOK: it's always nice when a former felon turns his life around\"\n",
      "b'RT @TristanSnell: Trump freed Taliban leader Baradar from prison. \\n\\nRT this so everyone knows the real story. #TalibanTrump'\n",
      "b'RT @charliekirk11: 6 months of Joe Biden\\xe2\\x80\\x99s weakness has undermined &amp; undone 4 years of Donald Trump\\xe2\\x80\\x99s strength.\\n\\nThe Taliban is running Afg\\xe2\\x80\\xa6'\n",
      "b'RT @JKash000: Stranger things have happened!\\xf0\\x9f\\x99\\x8f\\xf0\\x9f\\x8f\\xbb'\n",
      "b'RT @DailyCaller: TRUMP: \"It\\'s time for Joe Biden to resign in disgrace\" https://t.co/dHIXaF0rex'\n",
      "b'RT @3porciento_3: Menos mal que hemos sacado a Donald Trump que era un loco criminal, un peligro para la humanidad.\\nBienvenido Joe Biden, b\\xe2\\x80\\xa6'\n",
      "b'RT @ACTBrigitte: The Taliban feared President Trump, they laugh at Joe Biden.'\n",
      "b'@PawelBoombel Trump zarz\\xc4\\x85dzi\\xc5\\x82.'\n",
      "b\"@Fluebear @KING5Seattle Who supports Biden anyway? Most people just didn't want another Trump disaster anyway. Should voted for Bernie.\"\n",
      "b'RT @hilaryluros: This is who\\xe2\\x80\\x99s at fault. \\xf0\\x9f\\x91\\x87'\n",
      "b'RT @angry_gammy: @ElderGrizzly @NoLieWithBTC @GOPLeader heard you guys deleted a page from GOP website (by accident?) that pointed out Trum\\xe2\\x80\\xa6'\n",
      "b'RT @JoJoFromJerz: #TalibanTrump'\n",
      "b'RT @JillWineBanks: Then why did they negotiate with Taliban and leave out the civil government of Afghanistan?'\n",
      "b\"@fredric_parsons @LyndaSpilstead I'm not a democrat though I'm glad to see them showing some backbone.\\nThe middle e\\xe2\\x80\\xa6 https://t.co/4jkWVDvmmk\"\n",
      "b\"RT @KalikarVijju: #Afghanistan\\nThis is what has to happen with them it's all worth it Taliban are doing right to some extent..\\n#KabulHasFal\\xe2\\x80\\xa6\"\n",
      "b'RT @____Daniel___E: Aeropuerto dr #Kabul.\\n\\nCaos total, no sale ning\\xc3\\xban vuelo y la gente en p\\xc3\\xa1nico aglomerada.\\n\\n#Afganistan es invadida por l\\xe2\\x80\\xa6'\n",
      "b'RT @ATA_KIZI_851979: \\xc3\\x9clkesinden ka\\xc3\\xa7an \\xc4\\xb0ranl\\xc4\\xb1 kad\\xc4\\xb1n\\'\\xc4\\xb1n s\\xc3\\xb6z\\xc3\\xbcne d\\xc3\\xb6n\\xc3\\xbc\\xc5\\x9f\\xc3\\xbcyor \\xc3\\xbclkemiz.!\\n\\n \"Biz de sizin gibiydik. \\'O kadar\\xc4\\xb1n\\xc4\\xb1 yapamazlar diyorduk.\\xe2\\x80\\xa6'\n",
      "b'@frstwillbelst @Shadowlion1151 @SbFlight @MarijaBRReed @cnnbrk \\xf0\\x9f\\xa4\\xa3\\xf0\\x9f\\xa4\\xa3\\xf0\\x9f\\xa4\\xa3\\xf0\\x9f\\xa4\\xa3\\xf0\\x9f\\xa4\\xa3\\xf0\\x9f\\xa4\\xa3\\xf0\\x9f\\xa4\\xa3\\xf0\\x9f\\xa4\\xa3\\xf0\\x9f\\xa4\\xa3\\xf0\\x9f\\xa4\\xa3\\xf0\\x9f\\xa4\\xa3 You people believe anything that makes Trump look like a saint.'\n",
      "b'RT @peterjukes: Wonder what went on in all those unrecorded conservations with Trump and Putin? And what happened to that bounty offered on\\xe2\\x80\\xa6'\n",
      "b'RT @FPWellman: Well he pledged\\xe2\\x80\\xa6.I can\\xe2\\x80\\x99t believe he lied.'\n",
      "b'RT @RSBNetwork: President Trump calls for Biden\\xe2\\x80\\x99s resignation in new statement: https://t.co/v6KT2xaRHO'\n",
      "b'RT @timesofindia: Kabul falls to Taliban: Joe Biden, Donald Trump trade blame amid American ignominy \\n\\nREAD: https://t.co/QMK5wmPiVH https:\\xe2\\x80\\xa6'\n",
      "b\"RT @micheleboldrin: Fino a quando #Biden non si e' messo al lavoro, #Trump era stato il peggior @POTUS che gli USA avessero avuto\\n\\nNon so s\\xe2\\x80\\xa6\"\n",
      "b'RT @cgrtanerr: Trump 15 dk i\\xc3\\xa7inde gelen takiplere d\\xc3\\xb6n\\xc3\\xbcyorum'\n",
      "b'@Cadoret @Copetweets @hugolowell \"If\"\\n\\nWe know what happened to the last two muslims that pissed off Trump, one ble\\xe2\\x80\\xa6 https://t.co/rlLagnir37'\n",
      "b'RT @GazaAdam101: ALL lies. \\n\\nWar on IRAQ with blatant lie of Weapon of mass destruction! \\n\\nALL \\xe2\\x80\\x98War on TERROR\\xe2\\x80\\x99 operations are JUST LIES. ht\\xe2\\x80\\xa6'\n",
      "b'RT @Juanerpf: Trump mantuvo la estabilidad en la zona durante su mandato.\\n\\nHa sido llegar Biden, y vuelve la guerra, el crimen y el resurgi\\xe2\\x80\\xa6'\n",
      "b'RT @travisakers: Mike Pompeo met with Taliban Head of the Political Office Mullah Beradar on September 12, 2020.\\n\\nBeradar is now set to bec\\xe2\\x80\\xa6'\n",
      "b'RT @ArjunKU711: Donald Trump slams US Prez Joe Biden; accuses of failing Afghan policy\\n\\n#Taliban\\xc2\\xa0no longer has fear or respect for #America\\xe2\\x80\\xa6'\n",
      "b'@GrumpyOldeDude @CNN @StCollinson Both Trump and biden wanted their troops home but they both proposed different strategies'\n",
      "b'RT @AdamWeinstein: Citing \"Afghan and Western officials,\" WSJ reports that a leader of the Taliban offensive was released from prison under\\xe2\\x80\\xa6'\n",
      "b'RT @colakrengin: May\\xc4\\xb1nlar BOP kapsam\\xc4\\xb1nda temizleniyor, #Afganistan i\\xc3\\xa7inde \\xc4\\xb0ran s\\xc4\\xb1n\\xc4\\xb1r\\xc4\\xb1ndaki may\\xc4\\xb1nlar\\xc4\\xb1 temizleten AKP ihanet i\\xc3\\xa7indedir\\nTrump\\xe2\\x80\\xa6'\n",
      "b'RT @chipfranklin: FACT: Trump negotiated the withdrawal of Troops in Afghanistan.\\n\\nPass it on.'\n",
      "b'@1_hanneke @dvdeijk @baspaternotte Haha ! Alsof Biden slaafs doet wat Trump wil!Sins wanneer is dat ?'\n",
      "b\"I hate this hellsite. Stop promoting alt-right fucking garbage blaming on Biden for Trump's freeing of the Taliban'\\xe2\\x80\\xa6 https://t.co/7fpS0pyM7H\"\n",
      "b'RT @tomiahonen: On Taliban surving co-founder, Mullah Abdul Ghani Baradar (the other co-founder Mullah Omar died in 2013). Note this. In 20\\xe2\\x80\\xa6'\n",
      "b'@hectorg1931 @MichaelArt123 I agree! trump and GQP ushered in Bad Over Good ,Lies over Truth, Steal over Share, Hat\\xe2\\x80\\xa6 https://t.co/8WwFOamI4V'\n",
      "b'RT @AdamKinzinger: Yep.  I have equally attacked Trump and Biden but the tribalism comes through on both ends of politics.  Maybe we just b\\xe2\\x80\\xa6'\n",
      "b'RT @MayoIsSpicyy: I heard the Taliban made Trump an honorary member.'\n",
      "b'RT @newsmax: JUST IN: Former Secretary of State @MikePompeo on Sunday declared that President @JoeBiden has \\xe2\\x80\\x9cutterly failed to protect the\\xe2\\x80\\xa6'\n",
      "b'RT @djrothkopf: Where were the master planners ten years ago when this outcome was clear? Where were they when Obama and Trump knew we shou\\xe2\\x80\\xa6'\n",
      "b'RT @JaniceSG1965: Amen \\xf0\\x9f\\x99\\x8f\\xf0\\x9f\\x8f\\xbc\\xe2\\x99\\xa5\\xef\\xb8\\x8f'\n",
      "b'RT @realDailyWire: Biden Sends More Troops To Afghanistan, Blames Trump; Experts Push Back: Biden \\xe2\\x80\\x98Owns All Of This\\xe2\\x80\\x99 https://t.co/W0KFBPSwT\\xe2\\x80\\xa6'\n",
      "b'#Taliban \\n#TalibanTrump \\nSoooo, \\nWhat Is The Pentagon\\'s  Job Description? \\nOr Are They Supposed To \"Protect &amp; Serve\\xe2\\x80\\xa6 https://t.co/GG7JmWxZbc'\n",
      "b\"RT @RealSaavedra: Trump's greatest weakness at home was his greatest strength abroad: Unpredictable, impulsive, and hot tempered.\\n\\nThose th\\xe2\\x80\\xa6\"\n",
      "b'RT @DanScavino: \\xe2\\x80\\x9c@MikePompeo was in the room when Trump warned the Taliban\\xe2\\x80\\x99s senior negotiator, Mullah Baradar, that if a single American w\\xe2\\x80\\xa6'\n",
      "b'Hva mener du om dette @anebrei ? Much politics og bla bla?'\n",
      "b'RT @RoArquette: Where were the outraged republicans when Trump invited the Taliban to camp David ? We are sick of the Gaslighting'\n",
      "b'RT @TristanSnell: Trump freed Taliban leader Baradar from prison. \\n\\nRT this so everyone knows the real story. #TalibanTrump'\n",
      "b'\\xc2\\xbfC\\xc3\\xb3mo cu\\xc3\\xa1nto estar\\xc3\\xa1n ahora echando de menos las mujeres Afganas a Trump?'\n",
      "b'RT @aaaa70caro: Trump startte geen enkele oorlog en stond op het punt een einde te maken aan de burgeroorlog in Afghanistan in tegenstellin\\xe2\\x80\\xa6'\n",
      "b'RT @hermanntertsch: Los intentos de culpar a Trump de la cat\\xc3\\xa1strofe de Kabul y del hundimiento de la presidencia Biden seis meses despu\\xc3\\xa9s d\\xe2\\x80\\xa6'\n",
      "b'Trump calls Biden to resign: \\xe2\\x80\\x9cAfghanistan is a disgrace\\xe2\\x80\\x9d\\nhttps://t.co/UVGzZeyTEH'\n",
      "b'RT @ScottMStedman: There is PLENTY of blame to place on each of Bush, Obama, Trump, and Biden about the Aghanistan failure but this picture\\xe2\\x80\\xa6'\n",
      "b'RT @FlorenceItaly10: FACTS - Never forget that Donald Trump negotiated an agreement with the Taliban to withdraw all U.S. forces by May 1,\\xe2\\x80\\xa6'\n",
      "b'RT @c2des: The Taliban\\xe2\\x80\\x99s official spokesman has a blue tick Twitter account. \\n\\nFormer president of the USA, Donald Trump\\xe2\\x80\\x99s account is suspe\\xe2\\x80\\xa6'\n",
      "b'RT @Leone1600: cuando estaba trump...los medios en grupo lo atacaban todos los dias...llego el nefasto biden y los talibanes se toman afgan\\xe2\\x80\\xa6'\n",
      "b'#TrudeauMustGo'\n",
      "b'RT @cuquemar: Echan la culpa de lo de hoy a Trump porque estuvo antes pero no a Biden que fue:\\n\\n- Senador cuando Vietnam\\n\\n- Vicepresidente\\xe2\\x80\\xa6'\n",
      "b'RT @YhT72lYVgeyTEg1: \\xe3\\x83\\x88\\xe3\\x83\\xa9\\xe3\\x83\\xb3\\xe3\\x83\\x97\\xe5\\xa4\\xa7\\xe7\\xb5\\xb1\\xe9\\xa0\\x98\\xe3\\x81\\xaf\\xef\\xbc\\x98\\xe6\\x9c\\x88\\xef\\xbc\\x92\\xef\\xbc\\x92\\xe6\\x97\\xa5\\xe3\\x81\\xab\\xe5\\xbe\\xa9\\xe5\\xb8\\xb0 https://t.co/2HbZ4oOPjq https://t.co/JbLrVaIsOA'\n",
      "b'RT @MeghUpdates: Trump blames US President Joe Biden for #Afghanistan Crisis, seeks his resignation.\\nDisregarded Intelligence Inputs of Tal\\xe2\\x80\\xa6'\n",
      "b'RT @mehdirhasan: Americans should be furious with the governments of George W. Bush, Barack Obama, and Donald Trump, which told us, for 20\\xe2\\x80\\xa6'\n",
      "b'RT @USDtin: El l\\xc3\\xadder de los Talibanes y nuevo Presidente de Afganistan, estuvo preso en Guantanamo desde 2001 a 2015. Fue liberado por el g\\xe2\\x80\\xa6'\n",
      "b'RT @cgrtanerr: Trump 15 dk i\\xc3\\xa7inde gelen takiplere d\\xc3\\xb6n\\xc3\\xbcyorum'\n",
      "b\"RT @DemirrFatos: Trump Biden'a istifa et demi\\xc5\\x9f.\\nAmerikay\\xc4\\xb1 da kendimize benzettik:)\"\n",
      "b'RT @hugolowell: \\xe2\\x80\\x9cPresident Trump has continued to take the lead in peace talks as he signed a historic peace agreement with the Taliban in\\xe2\\x80\\xa6'\n",
      "b'RT @w_terrence: I\\xe2\\x80\\x99m calling on all Republicans to step and say it is time to impeach Joe Biden and Kamala Harris. \\n\\nArticles of Impeachment\\xe2\\x80\\xa6'\n",
      "b'PREZYDENT USA DONALD TRUMP JEST ROBOTEM EGO https://t.co/6MCu9m4ZJP via @YouTube #END'\n",
      "b'Lui c\\xe2\\x80\\x99est encore + une grosse merde que Trump mais bon'\n",
      "b'@DwntwnDave @OhiOBuckeyes25 @JoJoFromJerz @AdamKinzinger Trump wanted to meet at Camp David with the Taliban.. . Am\\xe2\\x80\\xa6 https://t.co/AtieVuwwzx'\n",
      "b'RT @JackPosobiec: Imagine CNN if this was happening under Trump'\n",
      "b'https://t.co/ccyoo6v49d. MORNING #Trump ...They took it down @GOP another lying wacko job you did...you mfsobfompgplcsdom....'\n",
      "b'Trump decries one of the \\xe2\\x80\\x98greatest defeats in American history\\xe2\\x80\\x99 amid Afghan collapse, calls for Biden to \\xe2\\x80\\x98resign in\\xe2\\x80\\xa6 https://t.co/EsCxiIzBUp'\n",
      "b'RT @chipfranklin: Retweet if you think @Twitter needs to ban Trump Jr for constantly pushing lies on behalf of his father.'\n",
      "b'RT @TristanSnell: Obama captured Baradar in 2010\\n\\nTrump released Baradar in 2018\\n\\nTruth is truth. #TalibanTrump'\n",
      "b'RT @vivekagnihotri: What Trump couldn\\xe2\\x80\\x99t do. \\n#Taliban #Afghanistan #Terrorism https://t.co/Bw8H0eLhFI'\n",
      "b'RT @ATA_KIZI_851979: \\xc3\\x9clkesinden ka\\xc3\\xa7an \\xc4\\xb0ranl\\xc4\\xb1 kad\\xc4\\xb1n\\'\\xc4\\xb1n s\\xc3\\xb6z\\xc3\\xbcne d\\xc3\\xb6n\\xc3\\xbc\\xc5\\x9f\\xc3\\xbcyor \\xc3\\xbclkemiz.!\\n\\n \"Biz de sizin gibiydik. \\'O kadar\\xc4\\xb1n\\xc4\\xb1 yapamazlar diyorduk.\\xe2\\x80\\xa6'\n",
      "b'@danielmcdonald @RonFilipkowski It is factual that Trump glorified the Taliban through a series of events.  He alwa\\xe2\\x80\\xa6 https://t.co/iw87DqAYQh'\n",
      "b'@DrKC4 @CalltoActivism Trump literally did nothing of the sort. While he did set up a phased withdrawal, what the c\\xe2\\x80\\xa6 https://t.co/5DRLaztZ64'\n",
      "b'RT @NoLieWithBTC: BREAKING: A Taliban Leader who Trump got released from prison in 2018 appears set to become the new President of Afghanis\\xe2\\x80\\xa6'\n",
      "b'RT @RyanAFournier: Trump isn\\xe2\\x80\\x99t responsible for what\\xe2\\x80\\x99s happening in Afghanistan.\\n\\nEvery other President including Joe Biden is.'\n",
      "b\"RT @ArmyVetStrong: President Trump had a plan...because of this administration's hatred against him they threw it out the window! This is o\\xe2\\x80\\xa6\"\n",
      "b'questa tragedia ha inizio con Trump, come dice prof  @Margelletti, lui si accord\\xc3\\xb3 con i nemici della democrazia afg\\xe2\\x80\\xa6 https://t.co/QjHlZDWLz5'\n",
      "b'RT @EIChilango: Biden perdi\\xc3\\xb3 una embajada en Kabul en 2021, Obama en Benghazi en 2012, Jimmy Carter en Saigon en 1975.\\n\\nQuasem Soleimani at\\xe2\\x80\\xa6'\n",
      "b'You Own This Pedo Joe!'\n",
      "b\"RT @RioTazewell: For those attempting to rewrite history right now by blaming Biden for the breakdown in Afghanistan, let's not forget that\\xe2\\x80\\xa6\"\n",
      "b'@Independent Trump is a total hypocrite'\n",
      "b\"RT @RadioFreeTom: Yes, I will take the inevitable fall of Kabul (since it's what the American people have demanded for years) over a presid\\xe2\\x80\\xa6\"\n",
      "b'RT @travisakers: Mike Pompeo met with Taliban Head of the Political Office Mullah Beradar on September 12, 2020.\\n\\nBeradar is now set to bec\\xe2\\x80\\xa6'\n",
      "b'@Dyzrell So odd\\xe2\\x80\\xa6..I went back to Twitter because of trump\\xe2\\x80\\xa6..I\\xe2\\x80\\x99ve never left since\\xe2\\x80\\xa6.'\n",
      "b'As a young Navy officer in the White House, Mr Bannon advised Mr Trump to get tough with China, describing it as \"t\\xe2\\x80\\xa6 https://t.co/k7tYrosRKW'\n",
      "b'RT @ruthtaka: You clueless fool, it was #JoeBiden who removed all US troops, air support. and ground support that enabled the #taliban to o\\xe2\\x80\\xa6'\n",
      "b'RT @TristanSnell: Trump and Pompeo stabbed the Afghan people in the back with their dirty deal with the Taliban and release of Baradar from\\xe2\\x80\\xa6'\n",
      "b'@LightItUpp_ Bienvenido a la razon y la coherencia. TRUMP no solo es importante para USA. Lo es para la libertad de todo occidente.'\n",
      "b'RT @cohkohhh: I\\xe2\\x80\\x99m old enough to remember that Trump was nominated for a little something called the Nobel Peace Prize, for peace in the Mid\\xe2\\x80\\xa6'\n",
      "b'RT @JakeLobin: Trump agreed to our withdrawal.\\nTrump gave them breathing room.\\nTrump &amp; Pompeo legitimized them.\\nTrump released 5000 Taliban\\xe2\\x80\\xa6'\n",
      "b'RT @RonFilipkowski: Ronna McDaniel, @GOPChairwoman, why did you just delete this from the Republican Party\\xe2\\x80\\x99s website, praising Donald Trump\\xe2\\x80\\xa6'\n",
      "b\"RT @RecepKa45637006: Afganistan'dan en b\\xc3\\xbcy\\xc3\\xbck fark\\xc4\\xb1m\\xc4\\xb1z, \\xc3\\x9cst\\xc3\\xbcn zekal\\xc4\\xb1 bir adam\\xc4\\xb1n bizim gibi vas\\xc4\\xb1fs\\xc4\\xb1z nesillerin gelece\\xc4\\x9fini g\\xc3\\xb6r\\xc3\\xbcp LA\\xc4\\xb0KL\\xc4\\xb0K'i il\\xe2\\x80\\xa6\"\n",
      "b'RT @RonFilipkowski: Ronna McDaniel, @GOPChairwoman, why did you just delete this from the Republican Party\\xe2\\x80\\x99s website, praising Donald Trump\\xe2\\x80\\xa6'\n",
      "b\"Trump'tan Biden'a istifa \\xc3\\xa7a\\xc4\\x9fr\\xc4\\xb1s\\xc4\\xb1\\n\\nhttps://t.co/FxNHpGUHeJ https://t.co/LC0ckiOnlg\"\n",
      "b'RT @OloCzarny: @RafalBochenek @agness_ja @POTUS @JoeBiden You do know it\\xe2\\x80\\x99s been Trump\\xe2\\x80\\x99s decision, not Biden\\xe2\\x80\\x99s, you just pretend to be a com\\xe2\\x80\\xa6'\n",
      "b'@goodwill_kid @thehill STFU..Biden already passed the deadline in May.  He\\xe2\\x80\\x99s already overturned every Trump moves,\\xe2\\x80\\xa6 https://t.co/LZkXy9W5Gs'\n",
      "b'RT @catolica_a: La culpa de que haya ca\\xc3\\xaddo Afganist\\xc3\\xa1n es de Trump, Aznar, Bush, Franco y Hern\\xc3\\xa1n Cort\\xc3\\xa9s.'\n",
      "b\"UNPRECEDENTED:  President Trump Calls For Joe Biden's Resignation https://t.co/fKI1tDKaUv #nolinks\"\n",
      "b\"Bang on. Forcing the Afghani's to release 5000 Taliban prisoners certainly didn't help the cause though. Yet just o\\xe2\\x80\\xa6 https://t.co/zagp8Brv0X\"\n",
      "b'RT @____Daniel___E: Recordar.\\n\\nCon #Trump no hubo ninguna guerra y #EEUU era la primera potencia mundial.\\n\\nAhora es #China y los #Talibanes\\xe2\\x80\\xa6'\n",
      "b'#TalibanTrump'\n",
      "b'RT @ScottMStedman: There is PLENTY of blame to place on each of Bush, Obama, Trump, and Biden about the Aghanistan failure but this picture\\xe2\\x80\\xa6'\n",
      "b'RT @Hanstw: #JoeBiden\\xe2\\x80\\xa6 je weet wel, de man die elke journalist in z\\xe2\\x80\\x99n achterzak heeft omdat hij geen #Trump heet\\xe2\\x80\\xa6 en nu - zonder \\xc3\\xa9\\xc3\\xa9n kritis\\xe2\\x80\\xa6'\n",
      "b'RT @cgrtanerr: Trump 15 dk i\\xc3\\xa7inde gelen takiplere d\\xc3\\xb6n\\xc3\\xbcyorum'\n",
      "b'RT @slmhktn: Trump: \\xe2\\x9d\\x9dAfganistan\\xe2\\x80\\x99da ya\\xc5\\x9fanmas\\xc4\\xb1na izin verdi\\xc4\\x9fi \\xc5\\x9fey nedeniyle Biden\\xe2\\x80\\x99\\xc4\\xb1n rezil \\xc5\\x9fekilde istifa etme vakti geldi. Zaten me\\xc5\\x9fru olara\\xe2\\x80\\xa6'\n",
      "b'RT @KeithOlbermann: Trump calls on Biden to resign for enacting a Trump policy https://t.co/fHdv1EKsSs'\n",
      "b'RT @Brexit011: To think how much money we have given to the W H O, the U N, the EU, after the last few days, what is the point in any of th\\xe2\\x80\\xa6'\n",
      "b'RT @hugolowell: New: Republican Party has removed a page from their website bragging about Trump\\xe2\\x80\\x99s deal with the Taliban that committed Bid\\xe2\\x80\\xa6'\n",
      "b'@samhorwich @Vinncent Sorta like the way the liberal establishment media has talked about Trump.'\n",
      "b'@ImSpeaking13 @WUTangKids Imagine blaming trump when your dumbass president is under office \\xf0\\x9f\\xa4\\xa1'\n",
      "b\"RT @AnnieGabstonH: Hey California, don't forget that we didn't end up with Trump because most people voted for him. We got him because, tha\\xe2\\x80\\xa6\"\n",
      "b'@PaulEmbery The fact that this withdrawal was negotiated *with the Taliban* under the Trump administration and not\\xe2\\x80\\xa6 https://t.co/2vRy4yI0uC'\n",
      "b'RT @fdragoni: @bianca_cappa Ah mi dica...\\nQuindi non \\xc3\\xa8 vero che Trump \\xc3\\xa8 stato bannato da Twitter? (SI/NO) \\nche i Talebani sono su Twitter (\\xe2\\x80\\xa6'\n",
      "b'RT @SHEsus__Christ: Republicans demanded we credit Trump for the Afghanistan withdrawal. Now they\\xe2\\x80\\x99re calling it Biden\\xe2\\x80\\x99s failure. It\\xe2\\x80\\x99s not.'\n",
      "b'RT @BaddCompani: TRUTH IS COMING!!!'\n",
      "b'RT @DougJBalloon: We wanted to understand what\\xe2\\x80\\x99s happening in Afghanistan. So we talked to three unvaccinated Trump supporters at  an Arby\\xe2\\x80\\x99\\xe2\\x80\\xa6'\n",
      "b'RT @RichardGrenell: Afghanistan has collapsed into the hands of the Taliban under Biden\\xe2\\x80\\x99s weak leadership - &amp; reliably Lefty Weigel is scou\\xe2\\x80\\xa6'\n",
      "b'RT @RichardEngel: The US topples the Taliban and drives out al-qaeda weeks after 9/11.  Then the US gets distracted by Iraq.  The Taliban r\\xe2\\x80\\xa6'\n",
      "b'@SecPompeo @mikepompeo Viva Trump, Viva Pompeo\\n#CheatersNeverWin, #WhereIsJoeBiden, #Cheater_Biden, #Coward_Biden,\\xe2\\x80\\xa6 https://t.co/Nn1F1ySMtv'\n",
      "b'@marisolcordido @eliaspino Siempre busc\\xc3\\xa1ndolo la 5ta pata al gato. El viejito la cago y punto.. Sendo presidente Donald Trump.'\n",
      "b\"RT @mehdirhasan: Here is Mike Pompeo, less than a year ago, meeting with Afghanistan's new 'president,' Taliban leader Mullah Baradar, who\\xe2\\x80\\xa6\"\n",
      "b'@ICE_IRT @GruneLiebe @tagesschau Sei es drum. Zu sp\\xc3\\xa4t ist zu sp\\xc3\\xa4t. China freut sich \\xc3\\xbcber seinen neuen Au\\xc3\\x9fenposten d\\xe2\\x80\\xa6 https://t.co/GMnX9BKSnZ'\n",
      "b'@YahyaJohn @RepAdamSchiff Biden completely scrapped what Trump had set up during his time in office...This is 100% Bidens doing...'\n",
      "b\"RT @mbarnbrook: @RupaHuq Biden is the cause of this. He is the one you should be pointing the finger at. It's a disaster in the making. Had\\xe2\\x80\\xa6\"\n",
      "b'RT @ReallyAmerican1: The Taliban fighters taking over Afghanistan were released by Trump and Pompeo. If Republicans want to be angry, they\\xe2\\x80\\xa6'\n",
      "b'RT @CapaMag: Trump\\xe2\\x80\\x99tan Afganistan yorumu:\\n\\xf0\\x9f\\x97\\xa3\\xe2\\x80\\x9cJoe Biden\\xe2\\x80\\x99\\xc4\\xb1n Afganistan\\xe2\\x80\\x99da yapt\\xc4\\xb1\\xc4\\x9f\\xc4\\xb1, ABD tarihindeki en b\\xc3\\xbcy\\xc3\\xbck yenilgilerden biri olarak kay\\xc4\\xb1tlar\\xe2\\x80\\xa6'\n",
      "b'@NyamoitaNyakund But Donald trump was the one who decided sign a pact with with taliban and to retreat American army'\n",
      "b'RT @BombshellDAILY: TRUMP CONTINUES PROMOTING VIOLENCE\\nHomeland security states the obvious. Violent criminals will accelerate when not ind\\xe2\\x80\\xa6'\n",
      "b'@mazzini_gsp beda ya ama trump kemarin sepi2 bae'\n",
      "b'RT @Jeri71712633: Trump Administration Wants All U.S. Troops Out Of Iraq And Afghanistan By Spring : NPR https://t.co/ITLP5XorXd'\n",
      "b'Wow, the reliability of @POTUS is collapsing quicker the the government in Afghanistan. This man is ruining everyth\\xe2\\x80\\xa6 https://t.co/zQVNCy8n9A'\n",
      "b'@erikpjverweij Biden en NAVO hebben een zware inschattingsfout gemaakt. Iedereen wou terugtrekken maar men ging erv\\xe2\\x80\\xa6 https://t.co/WGRQOFuxrk'\n",
      "b'@DroffoJ @theliamnissan @JacquiHeinrich @ContextFall Trump got 5000 taliban members released from jail. He negotiat\\xe2\\x80\\xa6 https://t.co/569WnmbSrA'\n",
      "b'RT @KHerriage: Helmut Norpoth Model has correctly predicted the winner in 24/26 elections. Trump in a landslide. \\n\\n-President Donald Trump\\xe2\\x80\\xa6'\n",
      "b'RT @NatashaLunah_: Guys whom do you think would be the best president to solve Afghanistan and Taliban Chaos between sleepy Joe Biden and D\\xe2\\x80\\xa6'\n",
      "b'@DonRoden1 @SenTedCruz Trump had a plan and a strategy to get troops out! All Biden had to do was follow it but he\\xe2\\x80\\xa6 https://t.co/h2P6K6Krlc'\n",
      "b'@AldumarForeroO Echan la culpa de lo de hoy a Trump porque estuvo antes pero no a Biden que fue:\\n\\n- Senador cuando\\xe2\\x80\\xa6 https://t.co/uaaOiH33AV'\n",
      "b'RT @Choeymoey26: 20 years, losing our Nations Treasure and despite a well-planned and incremental pull out of the war zone by Donald Trump,\\xe2\\x80\\xa6'\n",
      "b'RT @RichardEngel: Lots of blame to go around for Afghanistan on the US side.  Trump made a terrible deal with the Taliban, effectively prom\\xe2\\x80\\xa6'\n",
      "b'RT @c2des: The Taliban\\xe2\\x80\\x99s official spokesman has a blue tick Twitter account. \\n\\nFormer president of the USA, Donald Trump\\xe2\\x80\\x99s account is suspe\\xe2\\x80\\xa6'\n"
     ]
    }
   ],
   "source": [
    "sendData(c)"
   ]
  },
  {
   "cell_type": "code",
   "execution_count": null,
   "id": "a2e0efcd",
   "metadata": {},
   "outputs": [],
   "source": []
  },
  {
   "cell_type": "code",
   "execution_count": null,
   "id": "f8ff98d6",
   "metadata": {},
   "outputs": [],
   "source": []
  }
 ],
 "metadata": {
  "kernelspec": {
   "display_name": "Python 3",
   "language": "python",
   "name": "python3"
  },
  "language_info": {
   "codemirror_mode": {
    "name": "ipython",
    "version": 3
   },
   "file_extension": ".py",
   "mimetype": "text/x-python",
   "name": "python",
   "nbconvert_exporter": "python",
   "pygments_lexer": "ipython3",
   "version": "3.8.8"
  }
 },
 "nbformat": 4,
 "nbformat_minor": 5
}
