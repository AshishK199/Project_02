{
 "cells": [
  {
   "cell_type": "code",
   "execution_count": 1,
   "id": "ab4c851a",
   "metadata": {},
   "outputs": [],
   "source": [
    "import os\n",
    "import tweepy as tw"
   ]
  },
  {
   "cell_type": "code",
   "execution_count": 2,
   "id": "03405148",
   "metadata": {},
   "outputs": [],
   "source": [
    "consumer_key = 'PApQojAQOSd8iWdMdWeumD5i2'\n",
    "consumer_secret = 'lUEA33FLEUK1hO52LlLnRbFulopaDYYLes5EDqnImO5XmyPqLg'\n",
    "access_token = '1425317741997694976-IkA7s2zdUdQp1XdiO2YZaWDaUTSk3D'\n",
    "access_token_secret = 'jdb2xaTL50gfiyIGx6aNMwihLe0ff0T4peX0ectErrYEy'"
   ]
  },
  {
   "cell_type": "code",
   "execution_count": 3,
   "id": "08908e70",
   "metadata": {},
   "outputs": [],
   "source": [
    "auth = tw.OAuthHandler(consumer_key, consumer_secret)\n",
    "auth.set_access_token(access_token, access_token_secret)\n",
    "api = tw.API(auth, wait_on_rate_limit=True)"
   ]
  },
  {
   "cell_type": "code",
   "execution_count": 4,
   "id": "09235ba9",
   "metadata": {},
   "outputs": [],
   "source": [
    "search_words = \"#Robin\"\n",
    "date_since = \"2018-11-16\""
   ]
  },
  {
   "cell_type": "code",
   "execution_count": 5,
   "id": "2689ec21",
   "metadata": {},
   "outputs": [
    {
     "data": {
      "text/plain": [
       "['RT @kevinkomics: tim drake means so much to me and idc but Ive never felt more represented by Tim ESPECIALLY with him being revealed to be…',\n",
       " 'RT @kevinkomics: tim drake means so much to me and idc but Ive never felt more represented by Tim ESPECIALLY with him being revealed to be…',\n",
       " 'RT @kevinkomics: tim drake means so much to me and idc but Ive never felt more represented by Tim ESPECIALLY with him being revealed to be…',\n",
       " 'RT @kevinkomics: tim drake means so much to me and idc but Ive never felt more represented by Tim ESPECIALLY with him being revealed to be…',\n",
       " 'RT @paul_cunniffe1: A little robin taken on the canal this morning. 😊  #mossley #wildlife #birds #robin @tmbc_culture #saddleworth @Tamesid…',\n",
       " 'RT @kevinkomics: tim drake means so much to me and idc but Ive never felt more represented by Tim ESPECIALLY with him being revealed to be…',\n",
       " 'RT @_baihujun: tim drake #robin https://t.co/ss0oLhCwoE',\n",
       " 'RT @kevinkomics: tim drake means so much to me and idc but Ive never felt more represented by Tim ESPECIALLY with him being revealed to be…',\n",
       " 'RT @LumberjackRobin: Did you even know who Tim Drake was before this news?\\n\\nDid you ever actually care about the character of #Robin before…',\n",
       " 'RT @CBNostalgia: Some rather interesting little Easter eggs in the first episode of #TitansSeason3. We knew that #TimDrake was part of this…',\n",
       " 'Did you even know who Tim Drake was before this news?\\n\\nDid you ever actually care about the character of #Robin bef… https://t.co/vaqVxXpHLB',\n",
       " 'RT @paul_cunniffe1: A little robin taken on the canal this morning. 😊  #mossley #wildlife #birds #robin @tmbc_culture #saddleworth @Tamesid…',\n",
       " 'RT @paul_cunniffe1: A little robin taken on the canal this morning. 😊  #mossley #wildlife #birds #robin @tmbc_culture #saddleworth @Tamesid…',\n",
       " \"I love my new job, I really do.\\n\\nBut hearing my coworkers talk about how they can't take #Robin seriously after Tim… https://t.co/qi5UKW6sE5\",\n",
       " 'RT @leokiings: im so proud of you #TimDrake &lt;3. #Robin https://t.co/n1gkHyVfEb']"
      ]
     },
     "execution_count": 5,
     "metadata": {},
     "output_type": "execute_result"
    }
   ],
   "source": [
    "tweets = tw.Cursor(api.search,\n",
    "                       q=search_words,\n",
    "                       lang=\"en\",\n",
    "                       since=date_since).items(15)\n",
    "\n",
    "# Collect a list of tweets\n",
    "[tweet.text for tweet in tweets]"
   ]
  },
  {
   "cell_type": "code",
   "execution_count": 6,
   "id": "4b6d3ebe",
   "metadata": {},
   "outputs": [
    {
     "data": {
      "text/plain": [
       "'#Robin -filter:retweets'"
      ]
     },
     "execution_count": 6,
     "metadata": {},
     "output_type": "execute_result"
    }
   ],
   "source": [
    "new_search = search_words + \" -filter:retweets\"\n",
    "new_search"
   ]
  },
  {
   "cell_type": "code",
   "execution_count": 7,
   "id": "cbc37960",
   "metadata": {},
   "outputs": [
    {
     "data": {
      "text/plain": [
       "[['LumberjackRobin', 'West Monroe, LA'],\n",
       " ['LumberjackRobin', 'West Monroe, LA'],\n",
       " ['ilbutman', 'Gotham City'],\n",
       " ['ilbutman', 'Gotham City'],\n",
       " ['ilbutman', 'Gotham City'],\n",
       " ['candor_radical', ''],\n",
       " ['KingKrizo', ''],\n",
       " ['irionik', 'mexico chaos city'],\n",
       " ['DamianWayneStan', ''],\n",
       " ['pomdl', ''],\n",
       " ['DCFanatic1991', ''],\n",
       " ['ricardodpm', 'Canton, NY'],\n",
       " ['jodyscorner1', 'Los Angeles, CA'],\n",
       " ['MrCPurser760', 'Apple Valley, CA'],\n",
       " ['ron_keith', 'Camp Springs, MD']]"
      ]
     },
     "execution_count": 7,
     "metadata": {},
     "output_type": "execute_result"
    }
   ],
   "source": [
    "tweets = tw.Cursor(api.search, \n",
    "                           q=new_search,\n",
    "                           lang=\"en\",\n",
    "                           since=date_since).items(15)\n",
    "\n",
    "users_locs = [[tweet.user.screen_name, tweet.user.location] for tweet in tweets]\n",
    "users_locs"
   ]
  },
  {
   "cell_type": "code",
   "execution_count": null,
   "id": "282b5dae",
   "metadata": {},
   "outputs": [],
   "source": []
  },
  {
   "cell_type": "code",
   "execution_count": null,
   "id": "7ed46c5c",
   "metadata": {},
   "outputs": [],
   "source": []
  }
 ],
 "metadata": {
  "kernelspec": {
   "display_name": "Python 3",
   "language": "python",
   "name": "python3"
  },
  "language_info": {
   "codemirror_mode": {
    "name": "ipython",
    "version": 3
   },
   "file_extension": ".py",
   "mimetype": "text/x-python",
   "name": "python",
   "nbconvert_exporter": "python",
   "pygments_lexer": "ipython3",
   "version": "3.8.8"
  }
 },
 "nbformat": 4,
 "nbformat_minor": 5
}
